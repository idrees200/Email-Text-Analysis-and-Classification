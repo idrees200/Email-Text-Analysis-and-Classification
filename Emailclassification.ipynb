{
  "nbformat": 4,
  "nbformat_minor": 0,
  "metadata": {
    "colab": {
      "provenance": []
    },
    "kernelspec": {
      "name": "python3",
      "display_name": "Python 3"
    },
    "language_info": {
      "name": "python"
    }
  },
  "cells": [
    {
      "cell_type": "code",
      "execution_count": null,
      "metadata": {
        "colab": {
          "base_uri": "https://localhost:8080/"
        },
        "id": "X2mdfYyD_XZr",
        "outputId": "8a0a7ae8-3558-48fd-fd71-5a0ff4d459a2"
      },
      "outputs": [
        {
          "output_type": "stream",
          "name": "stdout",
          "text": [
            "Collecting emoji\n",
            "  Using cached emoji-2.8.0-py2.py3-none-any.whl (358 kB)\n",
            "Installing collected packages: emoji\n",
            "Successfully installed emoji-2.8.0\n"
          ]
        }
      ],
      "source": [
        "import pandas as pd\n",
        "from sklearn.model_selection import train_test_split\n",
        "!pip install emoji\n",
        "import re\n",
        "import nltk\n",
        "from nltk.stem import PorterStemmer\n",
        "from nltk.stem import WordNetLemmatizer\n",
        "import spacy"
      ]
    },
    {
      "cell_type": "code",
      "source": [
        "import emoji"
      ],
      "metadata": {
        "id": "uA1VvTTOBL4M"
      },
      "execution_count": null,
      "outputs": []
    },
    {
      "cell_type": "code",
      "source": [
        "import pandas as pd\n",
        "from sklearn.model_selection import train_test_split\n",
        "\n",
        "\n",
        "data = pd.read_csv('emails.csv')\n",
        "\n",
        "\n",
        "print(data.head())\n",
        "print(\"\")\n",
        "\n",
        "\n",
        "print(data.describe())\n",
        "print(\"\")\n",
        "\n",
        "\n",
        "X = data['text']\n",
        "y = data['spam']\n",
        "\n",
        "\n",
        "X_train, X_valid, y_train, y_valid = train_test_split(X, y, test_size=0.2, random_state=42)\n"
      ],
      "metadata": {
        "colab": {
          "base_uri": "https://localhost:8080/"
        },
        "id": "cgBKSCUgBTMI",
        "outputId": "7fd23ef0-cfea-41b3-febc-addec6e83e0b"
      },
      "execution_count": null,
      "outputs": [
        {
          "output_type": "stream",
          "name": "stdout",
          "text": [
            "                                                text  spam\n",
            "0  Subject: naturally irresistible your corporate...     1\n",
            "1  Subject: the stock trading gunslinger  fanny i...     1\n",
            "2  Subject: unbelievable new homes made easy  im ...     1\n",
            "3  Subject: 4 color printing special  request add...     1\n",
            "4  Subject: do not have money , get software cds ...     1\n",
            "\n",
            "              spam\n",
            "count  5728.000000\n",
            "mean      0.238827\n",
            "std       0.426404\n",
            "min       0.000000\n",
            "25%       0.000000\n",
            "50%       0.000000\n",
            "75%       0.000000\n",
            "max       1.000000\n",
            "\n"
          ]
        }
      ]
    },
    {
      "cell_type": "code",
      "source": [
        "data.drop_duplicates(inplace=True)\n",
        "\n",
        "\n",
        "data.dropna(inplace=True)\n",
        "\n",
        "def clean_text(text):\n",
        "    text = re.sub(r'<[^>]+>', ' ', text)\n",
        "    text = re.sub(r'[^a-zA-Z\\s]', '', text)\n",
        "    return text"
      ],
      "metadata": {
        "id": "gazxLa7OBeWu"
      },
      "execution_count": null,
      "outputs": []
    },
    {
      "cell_type": "code",
      "source": [
        "data['cleaned_email_body'] = data['text'].apply(clean_text)\n",
        "\n",
        "print(data[['text', 'cleaned_email_body']].head())"
      ],
      "metadata": {
        "colab": {
          "base_uri": "https://localhost:8080/"
        },
        "id": "tPvEFgGDBy_o",
        "outputId": "8c40347c-dae2-4c2a-c185-06ce5a959e85"
      },
      "execution_count": null,
      "outputs": [
        {
          "output_type": "stream",
          "name": "stdout",
          "text": [
            "                                                text  \\\n",
            "0  Subject: naturally irresistible your corporate...   \n",
            "1  Subject: the stock trading gunslinger  fanny i...   \n",
            "2  Subject: unbelievable new homes made easy  im ...   \n",
            "3  Subject: 4 color printing special  request add...   \n",
            "4  Subject: do not have money , get software cds ...   \n",
            "\n",
            "                                  cleaned_email_body  \n",
            "0  Subject naturally irresistible your corporate ...  \n",
            "1  Subject the stock trading gunslinger  fanny is...  \n",
            "2  Subject unbelievable new homes made easy  im w...  \n",
            "3  Subject  color printing special  request addit...  \n",
            "4  Subject do not have money  get software cds fr...  \n"
          ]
        }
      ]
    },
    {
      "cell_type": "code",
      "source": [
        "def remove_emojis(text):\n",
        "    emoji_pattern = re.compile(\"[\"\n",
        "                               u\"\\U0001F600-\\U0001F64F\"\n",
        "                               u\"\\U0001F300-\\U0001F5FF\"\n",
        "                               u\"\\U0001F680-\\U0001F6FF\"\n",
        "                               u\"\\U0001F700-\\U0001F77F\"\n",
        "                               u\"\\U0001F780-\\U0001F7FF\"\n",
        "                               u\"\\U0001F800-\\U0001F8FF\"\n",
        "                               u\"\\U0001F900-\\U0001F9FF\"\n",
        "                               u\"\\U0001FA00-\\U0001FA6F\"\n",
        "                               u\"\\U0001FA70-\\U0001FAFF\"\n",
        "                               u\"\\U00002702-\\U000027B0\"\n",
        "                               u\"\\U000024C2-\\U0001F251\"\n",
        "                               \"]+\", flags=re.UNICODE)\n",
        "    return emoji_pattern.sub(r'', text)"
      ],
      "metadata": {
        "id": "nyYWJ9O7B5wx"
      },
      "execution_count": null,
      "outputs": []
    },
    {
      "cell_type": "code",
      "source": [
        "data['cleaned_email_body'] = data['cleaned_email_body'].apply(remove_emojis)\n",
        "\n",
        "print(\"Cleaned Email Bodies with Emojis Removed:\")\n",
        "print(data[['text', 'cleaned_email_body']].head())"
      ],
      "metadata": {
        "colab": {
          "base_uri": "https://localhost:8080/"
        },
        "id": "J_BkBAc7CLUv",
        "outputId": "8008fe0a-ee9c-4271-d1e2-a718212601a3"
      },
      "execution_count": null,
      "outputs": [
        {
          "output_type": "stream",
          "name": "stdout",
          "text": [
            "Cleaned Email Bodies with Emojis Removed:\n",
            "                                                text  \\\n",
            "0  Subject: naturally irresistible your corporate...   \n",
            "1  Subject: the stock trading gunslinger  fanny i...   \n",
            "2  Subject: unbelievable new homes made easy  im ...   \n",
            "3  Subject: 4 color printing special  request add...   \n",
            "4  Subject: do not have money , get software cds ...   \n",
            "\n",
            "                                  cleaned_email_body  \n",
            "0  Subject naturally irresistible your corporate ...  \n",
            "1  Subject the stock trading gunslinger  fanny is...  \n",
            "2  Subject unbelievable new homes made easy  im w...  \n",
            "3  Subject  color printing special  request addit...  \n",
            "4  Subject do not have money  get software cds fr...  \n"
          ]
        }
      ]
    },
    {
      "cell_type": "code",
      "source": [
        "nltk.download('wordnet')\n",
        "ps = PorterStemmer()\n",
        "wnl = WordNetLemmatizer()"
      ],
      "metadata": {
        "colab": {
          "base_uri": "https://localhost:8080/"
        },
        "id": "w4P5E26TCQ2k",
        "outputId": "51f83946-f3d0-4468-9a59-30ad13efefaf"
      },
      "execution_count": null,
      "outputs": [
        {
          "output_type": "stream",
          "name": "stderr",
          "text": [
            "[nltk_data] Downloading package wordnet to /root/nltk_data...\n"
          ]
        }
      ]
    },
    {
      "cell_type": "code",
      "source": [
        "def apply_nltk_stemming_and_lemmatization(text):\n",
        "    stemmed_text = ' '.join([ps.stem(word) for word in text.split()])\n",
        "    lemmatized_text = ' '.join([wnl.lemmatize(word) for word in text.split()])\n",
        "    return stemmed_text, lemmatized_text"
      ],
      "metadata": {
        "id": "7vLMzM2SCWbC"
      },
      "execution_count": null,
      "outputs": []
    },
    {
      "cell_type": "code",
      "source": [
        "def apply_spacy_lemmatization(text):\n",
        "    nlp = spacy.load('en_core_web_sm')\n",
        "    doc = nlp(text)\n",
        "    lemmatized_text = ' '.join([token.lemma_ for token in doc])\n",
        "    return lemmatized_text\n"
      ],
      "metadata": {
        "id": "WQqr2BosCaQL"
      },
      "execution_count": null,
      "outputs": []
    },
    {
      "cell_type": "code",
      "source": [
        "data['stemmed_email_body'], data['lemmatized_email_body_nltk'] = \\\n",
        "    zip(*data['cleaned_email_body'].map(apply_nltk_stemming_and_lemmatization))\n",
        "\n",
        "data['lemmatized_email_body_spacy'] = data['cleaned_email_body'].apply(apply_spacy_lemmatization)\n",
        "\n",
        "print(data[['cleaned_email_body', 'stemmed_email_body', 'lemmatized_email_body_nltk', 'lemmatized_email_body_spacy']].head())"
      ],
      "metadata": {
        "id": "YMgrLNkZJSuj"
      },
      "execution_count": null,
      "outputs": []
    },
    {
      "cell_type": "code",
      "source": [
        "import pandas as pd\n",
        "from sklearn.feature_extraction.text import TfidfVectorizer\n",
        "from sklearn.model_selection import train_test_split\n",
        "from sklearn.naive_bayes import MultinomialNB\n",
        "from sklearn.metrics import accuracy_score, precision_score, recall_score, f1_score\n"
      ],
      "metadata": {
        "id": "4K7VTnXxEVLZ"
      },
      "execution_count": null,
      "outputs": []
    },
    {
      "cell_type": "code",
      "source": [
        "X_train, X_valid, y_train, y_valid = train_test_split(X, y, test_size=0.2, random_state=42)\n"
      ],
      "metadata": {
        "id": "4I6bpFuYEgyn"
      },
      "execution_count": null,
      "outputs": []
    },
    {
      "cell_type": "code",
      "source": [
        "tfidf_vectorizer = TfidfVectorizer()\n",
        "\n",
        "X_train_tfidf = tfidf_vectorizer.fit_transform(X_train)\n",
        "\n",
        "X_valid_tfidf = tfidf_vectorizer.transform(X_valid)\n",
        "\n",
        "nb_classifier = MultinomialNB()\n",
        "\n",
        "nb_classifier.fit(X_train_tfidf, y_train)\n",
        "\n",
        "y_pred = nb_classifier.predict(X_valid_tfidf)\n",
        "\n",
        "accuracy = accuracy_score(y_valid, y_pred)\n",
        "precision = precision_score(y_valid, y_pred)\n",
        "recall = recall_score(y_valid, y_pred)\n",
        "f1 = f1_score(y_valid, y_pred)\n",
        "\n",
        "print(f'Accuracy: {accuracy}')\n",
        "print(f'Precision: {precision}')\n",
        "print(f'Recall: {recall}')\n",
        "print(f'F1 Score: {f1}')"
      ],
      "metadata": {
        "colab": {
          "base_uri": "https://localhost:8080/"
        },
        "id": "JV4iIn5ME575",
        "outputId": "2eeef3ef-b651-4748-e0f4-f2cc693614c4"
      },
      "execution_count": null,
      "outputs": [
        {
          "output_type": "stream",
          "name": "stdout",
          "text": [
            "Accuracy: 0.8516579406631762\n",
            "Precision: 1.0\n",
            "Recall: 0.41379310344827586\n",
            "F1 Score: 0.5853658536585366\n"
          ]
        }
      ]
    },
    {
      "cell_type": "code",
      "source": [
        "from sklearn.linear_model import LogisticRegression\n",
        "from sklearn.metrics import confusion_matrix\n",
        "import matplotlib.pyplot as plt"
      ],
      "metadata": {
        "id": "VwWfJWdkFPwN"
      },
      "execution_count": null,
      "outputs": []
    },
    {
      "cell_type": "code",
      "source": [
        "X_train, X_valid, y_train, y_valid = train_test_split(X, y, test_size=0.2, random_state=42)\n",
        "\n",
        "\n",
        "tfidf_vectorizer = TfidfVectorizer()\n",
        "\n",
        "\n",
        "X_train_tfidf = tfidf_vectorizer.fit_transform(X_train)\n",
        "\n",
        "X_valid_tfidf = tfidf_vectorizer.transform(X_valid)\n"
      ],
      "metadata": {
        "id": "C4qrHlB2FRwf"
      },
      "execution_count": null,
      "outputs": []
    },
    {
      "cell_type": "code",
      "source": [
        "lr_classifier = LogisticRegression()\n",
        "\n",
        "lr_classifier.fit(X_train_tfidf, y_train)\n",
        "\n",
        "y_pred_lr = lr_classifier.predict(X_valid_tfidf)\n",
        "\n",
        "accuracy_lr = accuracy_score(y_valid, y_pred_lr)\n",
        "\n",
        "cm = confusion_matrix(y_valid, y_pred_lr)\n",
        "\n",
        "plt.matshow(cm, cmap=plt.cm.Greens)\n",
        "plt.colorbar()\n",
        "plt.xlabel('Predicted')\n",
        "plt.ylabel('Actual')"
      ],
      "metadata": {
        "colab": {
          "base_uri": "https://localhost:8080/",
          "height": 425
        },
        "id": "e7b-Olz2F50c",
        "outputId": "24082692-0ca6-483d-b10e-3e8431df1ab0"
      },
      "execution_count": null,
      "outputs": [
        {
          "output_type": "execute_result",
          "data": {
            "text/plain": [
              "Text(0, 0.5, 'Actual')"
            ]
          },
          "metadata": {},
          "execution_count": 20
        },
        {
          "output_type": "display_data",
          "data": {
            "text/plain": [
              "<Figure size 480x480 with 2 Axes>"
            ],
            "image/png": "[encoded data removed]"
          },
          "metadata": {}
        }
      ]
    },
    {
      "cell_type": "code",
      "source": [
        "import numpy as np\n",
        "import pandas as pd\n",
        "import string\n",
        "from collections import Counter"
      ],
      "metadata": {
        "id": "PM85qraNGW5v"
      },
      "execution_count": null,
      "outputs": []
    },
    {
      "cell_type": "code",
      "source": [
        "def get_top_words(text, top_n=10):\n",
        "    words = text.split()\n",
        "    word_counts = Counter(words)\n",
        "    top_words = [word for word, count in word_counts.most_common(top_n)]\n",
        "    return top_words"
      ],
      "metadata": {
        "id": "tuyIjqrkGX4U"
      },
      "execution_count": null,
      "outputs": []
    },
    {
      "cell_type": "code",
      "source": [
        "def extract_handcrafted_features(text):\n",
        "    text_length = len(text)\n",
        "    words = text.split()\n",
        "    average_word_length = np.mean([len(word) for word in words])\n",
        "    capital_letters = sum(1 for char in text if char.isupper())\n",
        "    punctuation_count = sum(1 for char in text if char in string.punctuation)\n",
        "    numerals = sum(1 for char in text if char.isdigit())\n",
        "    top_words = get_top_words(text, top_n=10)\n",
        "\n",
        "    return [text_length, average_word_length, capital_letters, punctuation_count, numerals, top_words]\n"
      ],
      "metadata": {
        "id": "bGeBSlpqGcOS"
      },
      "execution_count": null,
      "outputs": []
    },
    {
      "cell_type": "code",
      "source": [
        "\n",
        "data['handcrafted_features'] = data['text'].apply(extract_handcrafted_features)\n",
        "\n",
        "data[['length', 'average_word_length', 'capital_letters', 'punctuation_count', 'numerals', 'top_words']] = pd.DataFrame(data['handcrafted_features'].tolist(), index=data.index)\n",
        "\n",
        "print(data[['length', 'average_word_length', 'capital_letters', 'punctuation_count', 'numerals', 'top_words']])\n"
      ],
      "metadata": {
        "colab": {
          "base_uri": "https://localhost:8080/"
        },
        "id": "_GFQgToTGlzT",
        "outputId": "e9638b73-15b7-4bc0-e5d6-e4e13f8bc9db"
      },
      "execution_count": null,
      "outputs": [
        {
          "output_type": "stream",
          "name": "stdout",
          "text": [
            "      length  average_word_length  capital_letters  punctuation_count  \\\n",
            "0       1484             3.527778                1                136   \n",
            "1        598             5.685393                1                  1   \n",
            "2        448             4.057471                1                  8   \n",
            "3        500             4.040816                1                 25   \n",
            "4        235             3.480769                1                 13   \n",
            "...      ...                  ...              ...                ...   \n",
            "5723    1189             2.919192                1                113   \n",
            "5724    1167             3.647541                1                 71   \n",
            "5725    2131             2.992233                1                177   \n",
            "5726    1060             2.713768                1                113   \n",
            "5727    2331             4.144144                1                 88   \n",
            "\n",
            "      numerals                                          top_words  \n",
            "0            3         [_, ., :, your, will, a, the, and, to, of]  \n",
            "1            0  [is, not, but, and, like, try, yes, or, no, Su...  \n",
            "2           10  [you, to, this, a, ., is, ,, and, Subject:, un...  \n",
            "3           30  [click, here, (, ), -, :, ., printing, request...  \n",
            "4            0  [., software, ', all, are, by, Subject:, do, n...  \n",
            "...        ...                                                ...  \n",
            "5723        70             [-, /, :, ect, to, @, ,, hou, 2000, .]  \n",
            "5724        56    [., :, /, ?, ,, garven, the, to, lsu, receipts]  \n",
            "5725        98               [>, ., -, :, /, ,, to, i, you, with]  \n",
            "5726        63  [-, :, /, ect, david, to, vince, interest, hou...  \n",
            "5727        44   [., the, ,, and, to, -, aurora, of, ', modeling]  \n",
            "\n",
            "[5695 rows x 6 columns]\n"
          ]
        }
      ]
    },
    {
      "cell_type": "code",
      "source": [
        "\n",
        "total_length = data['length'].sum()\n",
        "total_average_word_length = data['average_word_length'].sum()\n",
        "total_capital_letters = data['capital_letters'].sum()\n",
        "total_punctuation_count = data['punctuation_count'].sum()\n",
        "total_numerals = data['numerals'].sum()"
      ],
      "metadata": {
        "id": "vF_AWrwbGnZ7"
      },
      "execution_count": null,
      "outputs": []
    },
    {
      "cell_type": "code",
      "source": [
        "print(\"Total Length:\", total_length)\n",
        "print(\"Total Average Word Length:\", total_average_word_length)\n",
        "print(\"Total Capital Letters:\", total_capital_letters)\n",
        "print(\"Total Punctuation Count:\", total_punctuation_count)\n",
        "print(\"Total Numerals:\", total_numerals)"
      ],
      "metadata": {
        "colab": {
          "base_uri": "https://localhost:8080/"
        },
        "id": "yl9TUdc_GsHr",
        "outputId": "59efa79a-140f-4f46-fcdd-ef802cdcdc75"
      },
      "execution_count": null,
      "outputs": [
        {
          "output_type": "stream",
          "name": "stdout",
          "text": [
            "Total Length: 8873192\n",
            "Total Average Word Length: 21323.465127020296\n",
            "Total Capital Letters: 5695\n",
            "Total Punctuation Count: 480165\n",
            "Total Numerals: 212930\n"
          ]
        }
      ]
    },
    {
      "cell_type": "code",
      "source": [
        "import nltk\n",
        "nltk.download('vader_lexicon')\n",
        "from nltk.sentiment import SentimentIntensityAnalyzer"
      ],
      "metadata": {
        "colab": {
          "base_uri": "https://localhost:8080/"
        },
        "id": "KQAY7CQ2G7bm",
        "outputId": "6daeacf7-de8a-4d6b-b35a-c893c10f47e6"
      },
      "execution_count": null,
      "outputs": [
        {
          "output_type": "stream",
          "name": "stderr",
          "text": [
            "[nltk_data] Downloading package vader_lexicon to /root/nltk_data...\n"
          ]
        }
      ]
    },
    {
      "cell_type": "code",
      "source": [
        "sia = SentimentIntensityAnalyzer()\n",
        "\n",
        "positive_words = [\"good\", \"happy\", \"joy\", \"positive\"]\n",
        "negative_words = [\"bad\", \"sad\", \"anger\", \"negative\"]"
      ],
      "metadata": {
        "id": "KhcFfs6RHYR0"
      },
      "execution_count": null,
      "outputs": []
    },
    {
      "cell_type": "code",
      "source": [
        "\n",
        "def count_positive_words(sentence):\n",
        "    tokens = sentence.split()\n",
        "    positive_count = sum(1 for token in tokens if token in positive_words)\n",
        "    return positive_count\n"
      ],
      "metadata": {
        "id": "rd4z0n_qH_0l"
      },
      "execution_count": null,
      "outputs": []
    },
    {
      "cell_type": "code",
      "source": [
        "def count_negative_words(sentence):\n",
        "    tokens = sentence.split()\n",
        "    negative_count = sum(1 for token in tokens if token in negative_words)\n",
        "    return negative_count\n"
      ],
      "metadata": {
        "id": "2aaEis_AIDM9"
      },
      "execution_count": null,
      "outputs": []
    },
    {
      "cell_type": "code",
      "source": [
        "data['positive_word_count'] = data['text'].apply(count_positive_words)\n",
        "data['negative_word_count'] = data['text'].apply(count_negative_words)\n"
      ],
      "metadata": {
        "id": "YrpcB3x1IG_j"
      },
      "execution_count": null,
      "outputs": []
    },
    {
      "cell_type": "code",
      "source": [
        "plt.figure(figsize=(10, 5))\n",
        "plt.subplot(1, 2, 1)\n",
        "plt.hist(data['positive_word_count'], bins=10, color='yellow', alpha=0.7)\n",
        "plt.title('Positive Word Counts')\n",
        "plt.xlabel('Count')\n",
        "plt.ylabel('Frequency')\n"
      ],
      "metadata": {
        "colab": {
          "base_uri": "https://localhost:8080/",
          "height": 503
        },
        "id": "M1JlkJwIIKl2",
        "outputId": "b0d7787b-3fb2-4a05-a3d2-86ab5f61a009"
      },
      "execution_count": null,
      "outputs": [
        {
          "output_type": "execute_result",
          "data": {
            "text/plain": [
              "Text(0, 0.5, 'Frequency')"
            ]
          },
          "metadata": {},
          "execution_count": 34
        },
        {
          "output_type": "display_data",
          "data": {
            "text/plain": [
              "<Figure size 1000x500 with 1 Axes>"
            ],
            "image/png": "[encoded data removed]"
          },
          "metadata": {}
        }
      ]
    },
    {
      "cell_type": "code",
      "source": [
        "plt.subplot(1, 2, 2)\n",
        "plt.hist(data['negative_word_count'], bins=10, color='red', alpha=0.7)\n",
        "plt.title('Negative Word Counts')\n",
        "plt.xlabel('Count')\n",
        "plt.ylabel('Frequency')\n",
        "\n",
        "plt.tight_layout()\n",
        "plt.show()"
      ],
      "metadata": {
        "colab": {
          "base_uri": "https://localhost:8080/",
          "height": 487
        },
        "id": "WkPHEowUIQbe",
        "outputId": "b62b706a-8a85-40a8-cc8b-35e087bcdfbb"
      },
      "execution_count": null,
      "outputs": [
        {
          "output_type": "display_data",
          "data": {
            "text/plain": [
              "<Figure size 640x480 with 1 Axes>"
            ],
            "image/png": "[encoded data removed]"
          },
          "metadata": {}
        }
      ]
    },
    {
      "cell_type": "code",
      "source": [
        "from sklearn.feature_extraction.text import TfidfVectorizer"
      ],
      "metadata": {
        "id": "c553YBmjIddF"
      },
      "execution_count": null,
      "outputs": []
    },
    {
      "cell_type": "code",
      "source": [
        "tfidf_vectorizer = TfidfVectorizer()\n",
        "X_train_tfidf = tfidf_vectorizer.fit_transform(X_train)"
      ],
      "metadata": {
        "id": "NkD69hsnIkQc"
      },
      "execution_count": null,
      "outputs": []
    },
    {
      "cell_type": "code",
      "source": [
        "l1_classifier = LogisticRegression(penalty='l1', solver='saga', C=1.0)\n",
        "\n",
        "l1_classifier.fit(X_train_tfidf, y_train)\n",
        "\n",
        "y_pred_l1 = l1_classifier.predict(X_train_tfidf)\n",
        "\n",
        "accuracy_l1 = accuracy_score(y_train, y_pred_l1)\n",
        "print(\"Accuracy with L1 regularization:\", accuracy_l1)\n",
        "\n",
        "l2_classifier = LogisticRegression(penalty='l2', C=1.0)\n",
        "\n",
        "l2_classifier.fit(X_train_tfidf, y_train)\n",
        "\n",
        "y_pred_l2 = l2_classifier.predict(X_train_tfidf)\n",
        "\n",
        "accuracy_l2 = accuracy_score(y_train, y_pred_l2)\n",
        "print(\"Accuracy with L2 regularization:\", accuracy_l2)"
      ],
      "metadata": {
        "colab": {
          "base_uri": "https://localhost:8080/"
        },
        "id": "zg7cEXwrIngJ",
        "outputId": "fef06d3c-fa98-456a-a931-25ea0ca0502e"
      },
      "execution_count": null,
      "outputs": [
        {
          "output_type": "stream",
          "name": "stderr",
          "text": [
            "/usr/local/lib/python3.10/dist-packages/sklearn/linear_model/_sag.py:350: ConvergenceWarning: The max_iter was reached which means the coef_ did not converge\n",
            "  warnings.warn(\n"
          ]
        },
        {
          "output_type": "stream",
          "name": "stdout",
          "text": [
            "Accuracy with L1 regularization: 0.9783937145351375\n",
            "Accuracy with L2 regularization: 0.99628982976866\n"
          ]
        }
      ]
    }
  ]
}